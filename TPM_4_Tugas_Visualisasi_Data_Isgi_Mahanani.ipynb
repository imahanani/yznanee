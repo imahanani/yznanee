{
  "nbformat": 4,
  "nbformat_minor": 0,
  "metadata": {
    "colab": {
      "provenance": [],
      "authorship_tag": "ABX9TyMpgiNSi77pboUe5gY27qAy"
    },
    "kernelspec": {
      "name": "ir",
      "display_name": "R"
    },
    "language_info": {
      "name": "R"
    }
  },
  "cells": [
    {
      "cell_type": "markdown",
      "source": [
        "TPM 4 Tugas Visualisasi Data - KP Isgi Mahanani"
      ],
      "metadata": {
        "id": "u2-sQVkPbnbn"
      }
    },
    {
      "cell_type": "code",
      "source": [
        "library(tidyverse) #import library"
      ],
      "metadata": {
        "colab": {
          "base_uri": "https://localhost:8080/"
        },
        "id": "hXKaXxSRbp8A",
        "outputId": "2eeb0c49-315b-4fb4-d25c-8883b39e8c5c"
      },
      "execution_count": 2,
      "outputs": [
        {
          "output_type": "stream",
          "name": "stderr",
          "text": [
            "── \u001b[1mAttaching packages\u001b[22m ─────────────────────────────────────── tidyverse 1.3.1 ──\n",
            "\n",
            "\u001b[32m✔\u001b[39m \u001b[34mggplot2\u001b[39m 3.4.2     \u001b[32m✔\u001b[39m \u001b[34mpurrr  \u001b[39m 1.0.1\n",
            "\u001b[32m✔\u001b[39m \u001b[34mtibble \u001b[39m 3.2.1     \u001b[32m✔\u001b[39m \u001b[34mdplyr  \u001b[39m 1.1.2\n",
            "\u001b[32m✔\u001b[39m \u001b[34mtidyr  \u001b[39m 1.3.0     \u001b[32m✔\u001b[39m \u001b[34mstringr\u001b[39m 1.5.0\n",
            "\u001b[32m✔\u001b[39m \u001b[34mreadr  \u001b[39m 2.1.4     \u001b[32m✔\u001b[39m \u001b[34mforcats\u001b[39m 1.0.0\n",
            "\n",
            "── \u001b[1mConflicts\u001b[22m ────────────────────────────────────────── tidyverse_conflicts() ──\n",
            "\u001b[31m✖\u001b[39m \u001b[34mdplyr\u001b[39m::\u001b[32mfilter()\u001b[39m masks \u001b[34mstats\u001b[39m::filter()\n",
            "\u001b[31m✖\u001b[39m \u001b[34mdplyr\u001b[39m::\u001b[32mlag()\u001b[39m    masks \u001b[34mstats\u001b[39m::lag()\n",
            "\n"
          ]
        }
      ]
    },
    {
      "cell_type": "code",
      "source": [
        "# Assessment R & Python_ Dataset_superstore_simple.csv\n",
        "sales_data <- read.csv(\"Assessment R & Python_ Dataset_superstore_simple.csv\")\n",
        "sales_data"
      ],
      "metadata": {
        "colab": {
          "base_uri": "https://localhost:8080/",
          "height": 1000
        },
        "id": "ZO9KXCnmdl0X",
        "outputId": "7cbeb762-6354-4690-865c-3dc75ffe676e"
      },
      "execution_count": 12,
      "outputs": [
        {
          "output_type": "display_data",
          "data": {
            "text/html": [
              "<table class=\"dataframe\">\n",
              "<caption>A data.frame: 9988 × 9</caption>\n",
              "<thead>\n",
              "\t<tr><th scope=col>order_id</th><th scope=col>order_date</th><th scope=col>customer_id</th><th scope=col>segment</th><th scope=col>category</th><th scope=col>sub_category</th><th scope=col>sales</th><th scope=col>quantity</th><th scope=col>profit</th></tr>\n",
              "\t<tr><th scope=col>&lt;chr&gt;</th><th scope=col>&lt;chr&gt;</th><th scope=col>&lt;chr&gt;</th><th scope=col>&lt;chr&gt;</th><th scope=col>&lt;chr&gt;</th><th scope=col>&lt;chr&gt;</th><th scope=col>&lt;dbl&gt;</th><th scope=col>&lt;int&gt;</th><th scope=col>&lt;dbl&gt;</th></tr>\n",
              "</thead>\n",
              "<tbody>\n",
              "\t<tr><td>CA-2016-152156</td><td>2016-11-08</td><td>CG-12520</td><td>Consumer   </td><td>Furniture      </td><td>Bookcases  </td><td> 261.9600</td><td>2</td><td>   41.9136</td></tr>\n",
              "\t<tr><td>CA-2016-152156</td><td>2016-11-08</td><td>CG-12520</td><td>Consumer   </td><td>Furniture      </td><td>Chairs     </td><td> 731.9400</td><td>3</td><td>  219.5820</td></tr>\n",
              "\t<tr><td>CA-2016-138688</td><td>2016-06-12</td><td>DV-13045</td><td>Corporate  </td><td>Office Supplies</td><td>Labels     </td><td>  14.6200</td><td>2</td><td>    6.8714</td></tr>\n",
              "\t<tr><td>US-2015-108966</td><td>2015-10-11</td><td>SO-20335</td><td>Consumer   </td><td>Furniture      </td><td>Tables     </td><td> 957.5775</td><td>5</td><td> -383.0310</td></tr>\n",
              "\t<tr><td>US-2015-108966</td><td>2015-10-11</td><td>SO-20335</td><td>Consumer   </td><td>Office Supplies</td><td>Storage    </td><td>  22.3680</td><td>2</td><td>    2.5164</td></tr>\n",
              "\t<tr><td>CA-2014-115812</td><td>2014-06-09</td><td>BH-11710</td><td>Consumer   </td><td>Furniture      </td><td>Furnishings</td><td>  48.8600</td><td>7</td><td>   14.1694</td></tr>\n",
              "\t<tr><td>CA-2014-115812</td><td>2014-06-09</td><td>BH-11710</td><td>Consumer   </td><td>Office Supplies</td><td>Art        </td><td>   7.2800</td><td>4</td><td>    1.9656</td></tr>\n",
              "\t<tr><td>CA-2014-115812</td><td>2014-06-09</td><td>BH-11710</td><td>Consumer   </td><td>Technology     </td><td>Phones     </td><td> 907.1520</td><td>6</td><td>   90.7152</td></tr>\n",
              "\t<tr><td>CA-2014-115812</td><td>2014-06-09</td><td>BH-11710</td><td>Consumer   </td><td>Office Supplies</td><td>Binders    </td><td>  18.5040</td><td>3</td><td>    5.7825</td></tr>\n",
              "\t<tr><td>CA-2014-115812</td><td>2014-06-09</td><td>BH-11710</td><td>Consumer   </td><td>Office Supplies</td><td>Appliances </td><td> 114.9000</td><td>5</td><td>   34.4700</td></tr>\n",
              "\t<tr><td>CA-2014-115812</td><td>2014-06-09</td><td>BH-11710</td><td>Consumer   </td><td>Furniture      </td><td>Tables     </td><td>1706.1840</td><td>9</td><td>   85.3092</td></tr>\n",
              "\t<tr><td>CA-2014-115812</td><td>2014-06-09</td><td>BH-11710</td><td>Consumer   </td><td>Technology     </td><td>Phones     </td><td> 911.4240</td><td>4</td><td>   68.3568</td></tr>\n",
              "\t<tr><td>CA-2017-114412</td><td>2017-04-15</td><td>AA-10480</td><td>Consumer   </td><td>Office Supplies</td><td>Paper      </td><td>  15.5520</td><td>3</td><td>    5.4432</td></tr>\n",
              "\t<tr><td>CA-2016-161389</td><td>2016-12-05</td><td>IM-15070</td><td>Consumer   </td><td>Office Supplies</td><td>Binders    </td><td> 407.9760</td><td>3</td><td>  132.5922</td></tr>\n",
              "\t<tr><td>US-2015-118983</td><td>2015-11-22</td><td>HP-14815</td><td>Home Office</td><td>Office Supplies</td><td>Appliances </td><td>  68.8100</td><td>5</td><td> -123.8580</td></tr>\n",
              "\t<tr><td>US-2015-118983</td><td>2015-11-22</td><td>HP-14815</td><td>Home Office</td><td>Office Supplies</td><td>Binders    </td><td>   2.5440</td><td>3</td><td>   -3.8160</td></tr>\n",
              "\t<tr><td>CA-2014-105893</td><td>2014-11-11</td><td>PK-19075</td><td>Consumer   </td><td>Office Supplies</td><td>Storage    </td><td> 665.8800</td><td>6</td><td>   13.3176</td></tr>\n",
              "\t<tr><td>CA-2014-167164</td><td>2014-05-13</td><td>AG-10270</td><td>Consumer   </td><td>Office Supplies</td><td>Storage    </td><td>  55.5000</td><td>2</td><td>    9.9900</td></tr>\n",
              "\t<tr><td>CA-2014-143336</td><td>2014-08-27</td><td>ZD-21925</td><td>Consumer   </td><td>Office Supplies</td><td>Art        </td><td>   8.5600</td><td>2</td><td>    2.4824</td></tr>\n",
              "\t<tr><td>CA-2014-143336</td><td>2014-08-27</td><td>ZD-21925</td><td>Consumer   </td><td>Technology     </td><td>Phones     </td><td> 213.4800</td><td>3</td><td>   16.0110</td></tr>\n",
              "\t<tr><td>CA-2014-143336</td><td>2014-08-27</td><td>ZD-21925</td><td>Consumer   </td><td>Office Supplies</td><td>Binders    </td><td>  22.7200</td><td>4</td><td>    7.3840</td></tr>\n",
              "\t<tr><td>CA-2016-137330</td><td>2016-12-09</td><td>KB-16585</td><td>Corporate  </td><td>Office Supplies</td><td>Art        </td><td>  19.4600</td><td>7</td><td>    5.0596</td></tr>\n",
              "\t<tr><td>CA-2016-137330</td><td>2016-12-09</td><td>KB-16585</td><td>Corporate  </td><td>Office Supplies</td><td>Appliances </td><td>  60.3400</td><td>7</td><td>   15.6884</td></tr>\n",
              "\t<tr><td>US-2017-156909</td><td>2017-07-16</td><td>SF-20065</td><td>Consumer   </td><td>Furniture      </td><td>Chairs     </td><td>  71.3720</td><td>2</td><td>   -1.0196</td></tr>\n",
              "\t<tr><td>CA-2015-106320</td><td>2015-09-25</td><td>EB-13870</td><td>Consumer   </td><td>Furniture      </td><td>Tables     </td><td>1044.6300</td><td>3</td><td>  240.2649</td></tr>\n",
              "\t<tr><td>CA-2016-121755</td><td>2016-01-16</td><td>EH-13945</td><td>Consumer   </td><td>Office Supplies</td><td>Binders    </td><td>  11.6480</td><td>2</td><td>    4.2224</td></tr>\n",
              "\t<tr><td>CA-2016-121755</td><td>2016-01-16</td><td>EH-13945</td><td>Consumer   </td><td>Technology     </td><td>Accessories</td><td>  90.5700</td><td>3</td><td>   11.7741</td></tr>\n",
              "\t<tr><td>US-2015-150630</td><td>2015-09-17</td><td>TB-21520</td><td>Consumer   </td><td>Furniture      </td><td>Bookcases  </td><td>3083.4300</td><td>7</td><td>-1665.0522</td></tr>\n",
              "\t<tr><td>US-2015-150630</td><td>2015-09-17</td><td>TB-21520</td><td>Consumer   </td><td>Office Supplies</td><td>Binders    </td><td>   9.6180</td><td>2</td><td>   -7.0532</td></tr>\n",
              "\t<tr><td>US-2015-150630</td><td>2015-09-17</td><td>TB-21520</td><td>Consumer   </td><td>Furniture      </td><td>Furnishings</td><td> 124.2000</td><td>3</td><td>   15.5250</td></tr>\n",
              "\t<tr><td>⋮</td><td>⋮</td><td>⋮</td><td>⋮</td><td>⋮</td><td>⋮</td><td>⋮</td><td>⋮</td><td>⋮</td></tr>\n",
              "\t<tr><td>CA-2016-146374</td><td>2016-12-05</td><td>HE-14800</td><td>Corporate  </td><td>Furniture      </td><td>Furnishings</td><td> 13.400</td><td> 1</td><td>  6.4320</td></tr>\n",
              "\t<tr><td>CA-2016-146374</td><td>2016-12-05</td><td>HE-14800</td><td>Corporate  </td><td>Office Supplies</td><td>Paper      </td><td>  4.980</td><td> 1</td><td>  2.3406</td></tr>\n",
              "\t<tr><td>CA-2016-146374</td><td>2016-12-05</td><td>HE-14800</td><td>Corporate  </td><td>Office Supplies</td><td>Envelopes  </td><td>109.690</td><td> 7</td><td> 51.5543</td></tr>\n",
              "\t<tr><td>CA-2017-153871</td><td>2017-12-11</td><td>RB-19435</td><td>Consumer   </td><td>Office Supplies</td><td>Binders    </td><td> 40.200</td><td> 5</td><td> 18.0900</td></tr>\n",
              "\t<tr><td>CA-2017-153871</td><td>2017-12-11</td><td>RB-19435</td><td>Consumer   </td><td>Office Supplies</td><td>Binders    </td><td>735.980</td><td> 2</td><td>331.1910</td></tr>\n",
              "\t<tr><td>CA-2017-153871</td><td>2017-12-11</td><td>RB-19435</td><td>Consumer   </td><td>Office Supplies</td><td>Appliances </td><td> 22.750</td><td> 7</td><td>  6.5975</td></tr>\n",
              "\t<tr><td>CA-2015-103772</td><td>2015-06-28</td><td>MP-17470</td><td>Home Office</td><td>Office Supplies</td><td>Binders    </td><td>119.560</td><td> 2</td><td> 54.9976</td></tr>\n",
              "\t<tr><td>CA-2015-103772</td><td>2015-06-28</td><td>MP-17470</td><td>Home Office</td><td>Office Supplies</td><td>Art        </td><td>140.750</td><td> 5</td><td> 42.2250</td></tr>\n",
              "\t<tr><td>CA-2016-130225</td><td>2016-09-11</td><td>RC-19960</td><td>Consumer   </td><td>Office Supplies</td><td>Envelopes  </td><td> 99.568</td><td> 2</td><td> 33.6042</td></tr>\n",
              "\t<tr><td>US-2016-103674</td><td>2016-12-06</td><td>AP-10720</td><td>Home Office</td><td>Technology     </td><td>Phones     </td><td>271.960</td><td> 5</td><td> 27.1960</td></tr>\n",
              "\t<tr><td>US-2016-103674</td><td>2016-12-06</td><td>AP-10720</td><td>Home Office</td><td>Office Supplies</td><td>Art        </td><td> 18.690</td><td> 7</td><td>  5.2332</td></tr>\n",
              "\t<tr><td>US-2016-103674</td><td>2016-12-06</td><td>AP-10720</td><td>Home Office</td><td>Office Supplies</td><td>Paper      </td><td> 13.360</td><td> 2</td><td>  6.4128</td></tr>\n",
              "\t<tr><td>US-2016-103674</td><td>2016-12-06</td><td>AP-10720</td><td>Home Office</td><td>Technology     </td><td>Phones     </td><td>249.584</td><td> 2</td><td> 31.1980</td></tr>\n",
              "\t<tr><td>US-2016-103674</td><td>2016-12-06</td><td>AP-10720</td><td>Home Office</td><td>Office Supplies</td><td>Fasteners  </td><td> 13.860</td><td> 7</td><td>  0.0000</td></tr>\n",
              "\t<tr><td>US-2016-103674</td><td>2016-12-06</td><td>AP-10720</td><td>Home Office</td><td>Office Supplies</td><td>Binders    </td><td> 13.376</td><td> 4</td><td>  4.6816</td></tr>\n",
              "\t<tr><td>US-2016-103674</td><td>2016-12-06</td><td>AP-10720</td><td>Home Office</td><td>Office Supplies</td><td>Binders    </td><td>437.472</td><td>14</td><td>153.1152</td></tr>\n",
              "\t<tr><td>US-2015-151435</td><td>2015-09-06</td><td>SW-20455</td><td>Consumer   </td><td>Furniture      </td><td>Tables     </td><td> 85.980</td><td> 1</td><td> 22.3548</td></tr>\n",
              "\t<tr><td>CA-2017-163566</td><td>2017-08-03</td><td>TB-21055</td><td>Consumer   </td><td>Office Supplies</td><td>Labels     </td><td> 16.520</td><td> 5</td><td>  5.3690</td></tr>\n",
              "\t<tr><td>US-2016-157728</td><td>2016-09-22</td><td>RC-19960</td><td>Consumer   </td><td>Office Supplies</td><td>Paper      </td><td> 35.560</td><td> 7</td><td> 16.7132</td></tr>\n",
              "\t<tr><td>US-2016-157728</td><td>2016-09-22</td><td>RC-19960</td><td>Consumer   </td><td>Technology     </td><td>Phones     </td><td> 97.980</td><td> 2</td><td> 27.4344</td></tr>\n",
              "\t<tr><td>CA-2015-100251</td><td>2015-05-17</td><td>DV-13465</td><td>Consumer   </td><td>Office Supplies</td><td>Labels     </td><td> 31.500</td><td>10</td><td> 15.1200</td></tr>\n",
              "\t<tr><td>CA-2015-100251</td><td>2015-05-17</td><td>DV-13465</td><td>Consumer   </td><td>Office Supplies</td><td>Supplies   </td><td> 55.600</td><td> 4</td><td> 16.1240</td></tr>\n",
              "\t<tr><td>CA-2016-125794</td><td>2016-09-29</td><td>ML-17410</td><td>Consumer   </td><td>Technology     </td><td>Accessories</td><td> 36.240</td><td> 1</td><td> 15.2208</td></tr>\n",
              "\t<tr><td>CA-2017-163629</td><td>2017-11-17</td><td>RA-19885</td><td>Corporate  </td><td>Technology     </td><td>Accessories</td><td> 79.990</td><td> 1</td><td> 28.7964</td></tr>\n",
              "\t<tr><td>CA-2017-163629</td><td>2017-11-17</td><td>RA-19885</td><td>Corporate  </td><td>Technology     </td><td>Phones     </td><td>206.100</td><td> 5</td><td> 55.6470</td></tr>\n",
              "\t<tr><td>CA-2014-110422</td><td>2014-01-21</td><td>TB-21400</td><td>Consumer   </td><td>Furniture      </td><td>Furnishings</td><td> 25.248</td><td> 3</td><td>  4.1028</td></tr>\n",
              "\t<tr><td>CA-2017-121258</td><td>2017-02-26</td><td>DB-13060</td><td>Consumer   </td><td>Furniture      </td><td>Furnishings</td><td> 91.960</td><td> 2</td><td> 15.6332</td></tr>\n",
              "\t<tr><td>CA-2017-121258</td><td>2017-02-26</td><td>DB-13060</td><td>Consumer   </td><td>Technology     </td><td>Phones     </td><td>258.576</td><td> 2</td><td> 19.3932</td></tr>\n",
              "\t<tr><td>CA-2017-121258</td><td>2017-02-26</td><td>DB-13060</td><td>Consumer   </td><td>Office Supplies</td><td>Paper      </td><td> 29.600</td><td> 4</td><td> 13.3200</td></tr>\n",
              "\t<tr><td>CA-2017-119914</td><td>2017-05-04</td><td>CC-12220</td><td>Consumer   </td><td>Office Supplies</td><td>Appliances </td><td>243.160</td><td> 2</td><td> 72.9480</td></tr>\n",
              "</tbody>\n",
              "</table>\n"
            ],
            "text/markdown": "\nA data.frame: 9988 × 9\n\n| order_id &lt;chr&gt; | order_date &lt;chr&gt; | customer_id &lt;chr&gt; | segment &lt;chr&gt; | category &lt;chr&gt; | sub_category &lt;chr&gt; | sales &lt;dbl&gt; | quantity &lt;int&gt; | profit &lt;dbl&gt; |\n|---|---|---|---|---|---|---|---|---|\n| CA-2016-152156 | 2016-11-08 | CG-12520 | Consumer    | Furniture       | Bookcases   |  261.9600 | 2 |    41.9136 |\n| CA-2016-152156 | 2016-11-08 | CG-12520 | Consumer    | Furniture       | Chairs      |  731.9400 | 3 |   219.5820 |\n| CA-2016-138688 | 2016-06-12 | DV-13045 | Corporate   | Office Supplies | Labels      |   14.6200 | 2 |     6.8714 |\n| US-2015-108966 | 2015-10-11 | SO-20335 | Consumer    | Furniture       | Tables      |  957.5775 | 5 |  -383.0310 |\n| US-2015-108966 | 2015-10-11 | SO-20335 | Consumer    | Office Supplies | Storage     |   22.3680 | 2 |     2.5164 |\n| CA-2014-115812 | 2014-06-09 | BH-11710 | Consumer    | Furniture       | Furnishings |   48.8600 | 7 |    14.1694 |\n| CA-2014-115812 | 2014-06-09 | BH-11710 | Consumer    | Office Supplies | Art         |    7.2800 | 4 |     1.9656 |\n| CA-2014-115812 | 2014-06-09 | BH-11710 | Consumer    | Technology      | Phones      |  907.1520 | 6 |    90.7152 |\n| CA-2014-115812 | 2014-06-09 | BH-11710 | Consumer    | Office Supplies | Binders     |   18.5040 | 3 |     5.7825 |\n| CA-2014-115812 | 2014-06-09 | BH-11710 | Consumer    | Office Supplies | Appliances  |  114.9000 | 5 |    34.4700 |\n| CA-2014-115812 | 2014-06-09 | BH-11710 | Consumer    | Furniture       | Tables      | 1706.1840 | 9 |    85.3092 |\n| CA-2014-115812 | 2014-06-09 | BH-11710 | Consumer    | Technology      | Phones      |  911.4240 | 4 |    68.3568 |\n| CA-2017-114412 | 2017-04-15 | AA-10480 | Consumer    | Office Supplies | Paper       |   15.5520 | 3 |     5.4432 |\n| CA-2016-161389 | 2016-12-05 | IM-15070 | Consumer    | Office Supplies | Binders     |  407.9760 | 3 |   132.5922 |\n| US-2015-118983 | 2015-11-22 | HP-14815 | Home Office | Office Supplies | Appliances  |   68.8100 | 5 |  -123.8580 |\n| US-2015-118983 | 2015-11-22 | HP-14815 | Home Office | Office Supplies | Binders     |    2.5440 | 3 |    -3.8160 |\n| CA-2014-105893 | 2014-11-11 | PK-19075 | Consumer    | Office Supplies | Storage     |  665.8800 | 6 |    13.3176 |\n| CA-2014-167164 | 2014-05-13 | AG-10270 | Consumer    | Office Supplies | Storage     |   55.5000 | 2 |     9.9900 |\n| CA-2014-143336 | 2014-08-27 | ZD-21925 | Consumer    | Office Supplies | Art         |    8.5600 | 2 |     2.4824 |\n| CA-2014-143336 | 2014-08-27 | ZD-21925 | Consumer    | Technology      | Phones      |  213.4800 | 3 |    16.0110 |\n| CA-2014-143336 | 2014-08-27 | ZD-21925 | Consumer    | Office Supplies | Binders     |   22.7200 | 4 |     7.3840 |\n| CA-2016-137330 | 2016-12-09 | KB-16585 | Corporate   | Office Supplies | Art         |   19.4600 | 7 |     5.0596 |\n| CA-2016-137330 | 2016-12-09 | KB-16585 | Corporate   | Office Supplies | Appliances  |   60.3400 | 7 |    15.6884 |\n| US-2017-156909 | 2017-07-16 | SF-20065 | Consumer    | Furniture       | Chairs      |   71.3720 | 2 |    -1.0196 |\n| CA-2015-106320 | 2015-09-25 | EB-13870 | Consumer    | Furniture       | Tables      | 1044.6300 | 3 |   240.2649 |\n| CA-2016-121755 | 2016-01-16 | EH-13945 | Consumer    | Office Supplies | Binders     |   11.6480 | 2 |     4.2224 |\n| CA-2016-121755 | 2016-01-16 | EH-13945 | Consumer    | Technology      | Accessories |   90.5700 | 3 |    11.7741 |\n| US-2015-150630 | 2015-09-17 | TB-21520 | Consumer    | Furniture       | Bookcases   | 3083.4300 | 7 | -1665.0522 |\n| US-2015-150630 | 2015-09-17 | TB-21520 | Consumer    | Office Supplies | Binders     |    9.6180 | 2 |    -7.0532 |\n| US-2015-150630 | 2015-09-17 | TB-21520 | Consumer    | Furniture       | Furnishings |  124.2000 | 3 |    15.5250 |\n| ⋮ | ⋮ | ⋮ | ⋮ | ⋮ | ⋮ | ⋮ | ⋮ | ⋮ |\n| CA-2016-146374 | 2016-12-05 | HE-14800 | Corporate   | Furniture       | Furnishings |  13.400 |  1 |   6.4320 |\n| CA-2016-146374 | 2016-12-05 | HE-14800 | Corporate   | Office Supplies | Paper       |   4.980 |  1 |   2.3406 |\n| CA-2016-146374 | 2016-12-05 | HE-14800 | Corporate   | Office Supplies | Envelopes   | 109.690 |  7 |  51.5543 |\n| CA-2017-153871 | 2017-12-11 | RB-19435 | Consumer    | Office Supplies | Binders     |  40.200 |  5 |  18.0900 |\n| CA-2017-153871 | 2017-12-11 | RB-19435 | Consumer    | Office Supplies | Binders     | 735.980 |  2 | 331.1910 |\n| CA-2017-153871 | 2017-12-11 | RB-19435 | Consumer    | Office Supplies | Appliances  |  22.750 |  7 |   6.5975 |\n| CA-2015-103772 | 2015-06-28 | MP-17470 | Home Office | Office Supplies | Binders     | 119.560 |  2 |  54.9976 |\n| CA-2015-103772 | 2015-06-28 | MP-17470 | Home Office | Office Supplies | Art         | 140.750 |  5 |  42.2250 |\n| CA-2016-130225 | 2016-09-11 | RC-19960 | Consumer    | Office Supplies | Envelopes   |  99.568 |  2 |  33.6042 |\n| US-2016-103674 | 2016-12-06 | AP-10720 | Home Office | Technology      | Phones      | 271.960 |  5 |  27.1960 |\n| US-2016-103674 | 2016-12-06 | AP-10720 | Home Office | Office Supplies | Art         |  18.690 |  7 |   5.2332 |\n| US-2016-103674 | 2016-12-06 | AP-10720 | Home Office | Office Supplies | Paper       |  13.360 |  2 |   6.4128 |\n| US-2016-103674 | 2016-12-06 | AP-10720 | Home Office | Technology      | Phones      | 249.584 |  2 |  31.1980 |\n| US-2016-103674 | 2016-12-06 | AP-10720 | Home Office | Office Supplies | Fasteners   |  13.860 |  7 |   0.0000 |\n| US-2016-103674 | 2016-12-06 | AP-10720 | Home Office | Office Supplies | Binders     |  13.376 |  4 |   4.6816 |\n| US-2016-103674 | 2016-12-06 | AP-10720 | Home Office | Office Supplies | Binders     | 437.472 | 14 | 153.1152 |\n| US-2015-151435 | 2015-09-06 | SW-20455 | Consumer    | Furniture       | Tables      |  85.980 |  1 |  22.3548 |\n| CA-2017-163566 | 2017-08-03 | TB-21055 | Consumer    | Office Supplies | Labels      |  16.520 |  5 |   5.3690 |\n| US-2016-157728 | 2016-09-22 | RC-19960 | Consumer    | Office Supplies | Paper       |  35.560 |  7 |  16.7132 |\n| US-2016-157728 | 2016-09-22 | RC-19960 | Consumer    | Technology      | Phones      |  97.980 |  2 |  27.4344 |\n| CA-2015-100251 | 2015-05-17 | DV-13465 | Consumer    | Office Supplies | Labels      |  31.500 | 10 |  15.1200 |\n| CA-2015-100251 | 2015-05-17 | DV-13465 | Consumer    | Office Supplies | Supplies    |  55.600 |  4 |  16.1240 |\n| CA-2016-125794 | 2016-09-29 | ML-17410 | Consumer    | Technology      | Accessories |  36.240 |  1 |  15.2208 |\n| CA-2017-163629 | 2017-11-17 | RA-19885 | Corporate   | Technology      | Accessories |  79.990 |  1 |  28.7964 |\n| CA-2017-163629 | 2017-11-17 | RA-19885 | Corporate   | Technology      | Phones      | 206.100 |  5 |  55.6470 |\n| CA-2014-110422 | 2014-01-21 | TB-21400 | Consumer    | Furniture       | Furnishings |  25.248 |  3 |   4.1028 |\n| CA-2017-121258 | 2017-02-26 | DB-13060 | Consumer    | Furniture       | Furnishings |  91.960 |  2 |  15.6332 |\n| CA-2017-121258 | 2017-02-26 | DB-13060 | Consumer    | Technology      | Phones      | 258.576 |  2 |  19.3932 |\n| CA-2017-121258 | 2017-02-26 | DB-13060 | Consumer    | Office Supplies | Paper       |  29.600 |  4 |  13.3200 |\n| CA-2017-119914 | 2017-05-04 | CC-12220 | Consumer    | Office Supplies | Appliances  | 243.160 |  2 |  72.9480 |\n\n",
            "text/latex": "A data.frame: 9988 × 9\n\\begin{tabular}{lllllllll}\n order\\_id & order\\_date & customer\\_id & segment & category & sub\\_category & sales & quantity & profit\\\\\n <chr> & <chr> & <chr> & <chr> & <chr> & <chr> & <dbl> & <int> & <dbl>\\\\\n\\hline\n\t CA-2016-152156 & 2016-11-08 & CG-12520 & Consumer    & Furniture       & Bookcases   &  261.9600 & 2 &    41.9136\\\\\n\t CA-2016-152156 & 2016-11-08 & CG-12520 & Consumer    & Furniture       & Chairs      &  731.9400 & 3 &   219.5820\\\\\n\t CA-2016-138688 & 2016-06-12 & DV-13045 & Corporate   & Office Supplies & Labels      &   14.6200 & 2 &     6.8714\\\\\n\t US-2015-108966 & 2015-10-11 & SO-20335 & Consumer    & Furniture       & Tables      &  957.5775 & 5 &  -383.0310\\\\\n\t US-2015-108966 & 2015-10-11 & SO-20335 & Consumer    & Office Supplies & Storage     &   22.3680 & 2 &     2.5164\\\\\n\t CA-2014-115812 & 2014-06-09 & BH-11710 & Consumer    & Furniture       & Furnishings &   48.8600 & 7 &    14.1694\\\\\n\t CA-2014-115812 & 2014-06-09 & BH-11710 & Consumer    & Office Supplies & Art         &    7.2800 & 4 &     1.9656\\\\\n\t CA-2014-115812 & 2014-06-09 & BH-11710 & Consumer    & Technology      & Phones      &  907.1520 & 6 &    90.7152\\\\\n\t CA-2014-115812 & 2014-06-09 & BH-11710 & Consumer    & Office Supplies & Binders     &   18.5040 & 3 &     5.7825\\\\\n\t CA-2014-115812 & 2014-06-09 & BH-11710 & Consumer    & Office Supplies & Appliances  &  114.9000 & 5 &    34.4700\\\\\n\t CA-2014-115812 & 2014-06-09 & BH-11710 & Consumer    & Furniture       & Tables      & 1706.1840 & 9 &    85.3092\\\\\n\t CA-2014-115812 & 2014-06-09 & BH-11710 & Consumer    & Technology      & Phones      &  911.4240 & 4 &    68.3568\\\\\n\t CA-2017-114412 & 2017-04-15 & AA-10480 & Consumer    & Office Supplies & Paper       &   15.5520 & 3 &     5.4432\\\\\n\t CA-2016-161389 & 2016-12-05 & IM-15070 & Consumer    & Office Supplies & Binders     &  407.9760 & 3 &   132.5922\\\\\n\t US-2015-118983 & 2015-11-22 & HP-14815 & Home Office & Office Supplies & Appliances  &   68.8100 & 5 &  -123.8580\\\\\n\t US-2015-118983 & 2015-11-22 & HP-14815 & Home Office & Office Supplies & Binders     &    2.5440 & 3 &    -3.8160\\\\\n\t CA-2014-105893 & 2014-11-11 & PK-19075 & Consumer    & Office Supplies & Storage     &  665.8800 & 6 &    13.3176\\\\\n\t CA-2014-167164 & 2014-05-13 & AG-10270 & Consumer    & Office Supplies & Storage     &   55.5000 & 2 &     9.9900\\\\\n\t CA-2014-143336 & 2014-08-27 & ZD-21925 & Consumer    & Office Supplies & Art         &    8.5600 & 2 &     2.4824\\\\\n\t CA-2014-143336 & 2014-08-27 & ZD-21925 & Consumer    & Technology      & Phones      &  213.4800 & 3 &    16.0110\\\\\n\t CA-2014-143336 & 2014-08-27 & ZD-21925 & Consumer    & Office Supplies & Binders     &   22.7200 & 4 &     7.3840\\\\\n\t CA-2016-137330 & 2016-12-09 & KB-16585 & Corporate   & Office Supplies & Art         &   19.4600 & 7 &     5.0596\\\\\n\t CA-2016-137330 & 2016-12-09 & KB-16585 & Corporate   & Office Supplies & Appliances  &   60.3400 & 7 &    15.6884\\\\\n\t US-2017-156909 & 2017-07-16 & SF-20065 & Consumer    & Furniture       & Chairs      &   71.3720 & 2 &    -1.0196\\\\\n\t CA-2015-106320 & 2015-09-25 & EB-13870 & Consumer    & Furniture       & Tables      & 1044.6300 & 3 &   240.2649\\\\\n\t CA-2016-121755 & 2016-01-16 & EH-13945 & Consumer    & Office Supplies & Binders     &   11.6480 & 2 &     4.2224\\\\\n\t CA-2016-121755 & 2016-01-16 & EH-13945 & Consumer    & Technology      & Accessories &   90.5700 & 3 &    11.7741\\\\\n\t US-2015-150630 & 2015-09-17 & TB-21520 & Consumer    & Furniture       & Bookcases   & 3083.4300 & 7 & -1665.0522\\\\\n\t US-2015-150630 & 2015-09-17 & TB-21520 & Consumer    & Office Supplies & Binders     &    9.6180 & 2 &    -7.0532\\\\\n\t US-2015-150630 & 2015-09-17 & TB-21520 & Consumer    & Furniture       & Furnishings &  124.2000 & 3 &    15.5250\\\\\n\t ⋮ & ⋮ & ⋮ & ⋮ & ⋮ & ⋮ & ⋮ & ⋮ & ⋮\\\\\n\t CA-2016-146374 & 2016-12-05 & HE-14800 & Corporate   & Furniture       & Furnishings &  13.400 &  1 &   6.4320\\\\\n\t CA-2016-146374 & 2016-12-05 & HE-14800 & Corporate   & Office Supplies & Paper       &   4.980 &  1 &   2.3406\\\\\n\t CA-2016-146374 & 2016-12-05 & HE-14800 & Corporate   & Office Supplies & Envelopes   & 109.690 &  7 &  51.5543\\\\\n\t CA-2017-153871 & 2017-12-11 & RB-19435 & Consumer    & Office Supplies & Binders     &  40.200 &  5 &  18.0900\\\\\n\t CA-2017-153871 & 2017-12-11 & RB-19435 & Consumer    & Office Supplies & Binders     & 735.980 &  2 & 331.1910\\\\\n\t CA-2017-153871 & 2017-12-11 & RB-19435 & Consumer    & Office Supplies & Appliances  &  22.750 &  7 &   6.5975\\\\\n\t CA-2015-103772 & 2015-06-28 & MP-17470 & Home Office & Office Supplies & Binders     & 119.560 &  2 &  54.9976\\\\\n\t CA-2015-103772 & 2015-06-28 & MP-17470 & Home Office & Office Supplies & Art         & 140.750 &  5 &  42.2250\\\\\n\t CA-2016-130225 & 2016-09-11 & RC-19960 & Consumer    & Office Supplies & Envelopes   &  99.568 &  2 &  33.6042\\\\\n\t US-2016-103674 & 2016-12-06 & AP-10720 & Home Office & Technology      & Phones      & 271.960 &  5 &  27.1960\\\\\n\t US-2016-103674 & 2016-12-06 & AP-10720 & Home Office & Office Supplies & Art         &  18.690 &  7 &   5.2332\\\\\n\t US-2016-103674 & 2016-12-06 & AP-10720 & Home Office & Office Supplies & Paper       &  13.360 &  2 &   6.4128\\\\\n\t US-2016-103674 & 2016-12-06 & AP-10720 & Home Office & Technology      & Phones      & 249.584 &  2 &  31.1980\\\\\n\t US-2016-103674 & 2016-12-06 & AP-10720 & Home Office & Office Supplies & Fasteners   &  13.860 &  7 &   0.0000\\\\\n\t US-2016-103674 & 2016-12-06 & AP-10720 & Home Office & Office Supplies & Binders     &  13.376 &  4 &   4.6816\\\\\n\t US-2016-103674 & 2016-12-06 & AP-10720 & Home Office & Office Supplies & Binders     & 437.472 & 14 & 153.1152\\\\\n\t US-2015-151435 & 2015-09-06 & SW-20455 & Consumer    & Furniture       & Tables      &  85.980 &  1 &  22.3548\\\\\n\t CA-2017-163566 & 2017-08-03 & TB-21055 & Consumer    & Office Supplies & Labels      &  16.520 &  5 &   5.3690\\\\\n\t US-2016-157728 & 2016-09-22 & RC-19960 & Consumer    & Office Supplies & Paper       &  35.560 &  7 &  16.7132\\\\\n\t US-2016-157728 & 2016-09-22 & RC-19960 & Consumer    & Technology      & Phones      &  97.980 &  2 &  27.4344\\\\\n\t CA-2015-100251 & 2015-05-17 & DV-13465 & Consumer    & Office Supplies & Labels      &  31.500 & 10 &  15.1200\\\\\n\t CA-2015-100251 & 2015-05-17 & DV-13465 & Consumer    & Office Supplies & Supplies    &  55.600 &  4 &  16.1240\\\\\n\t CA-2016-125794 & 2016-09-29 & ML-17410 & Consumer    & Technology      & Accessories &  36.240 &  1 &  15.2208\\\\\n\t CA-2017-163629 & 2017-11-17 & RA-19885 & Corporate   & Technology      & Accessories &  79.990 &  1 &  28.7964\\\\\n\t CA-2017-163629 & 2017-11-17 & RA-19885 & Corporate   & Technology      & Phones      & 206.100 &  5 &  55.6470\\\\\n\t CA-2014-110422 & 2014-01-21 & TB-21400 & Consumer    & Furniture       & Furnishings &  25.248 &  3 &   4.1028\\\\\n\t CA-2017-121258 & 2017-02-26 & DB-13060 & Consumer    & Furniture       & Furnishings &  91.960 &  2 &  15.6332\\\\\n\t CA-2017-121258 & 2017-02-26 & DB-13060 & Consumer    & Technology      & Phones      & 258.576 &  2 &  19.3932\\\\\n\t CA-2017-121258 & 2017-02-26 & DB-13060 & Consumer    & Office Supplies & Paper       &  29.600 &  4 &  13.3200\\\\\n\t CA-2017-119914 & 2017-05-04 & CC-12220 & Consumer    & Office Supplies & Appliances  & 243.160 &  2 &  72.9480\\\\\n\\end{tabular}\n",
            "text/plain": [
              "     order_id       order_date customer_id segment     category       \n",
              "1    CA-2016-152156 2016-11-08 CG-12520    Consumer    Furniture      \n",
              "2    CA-2016-152156 2016-11-08 CG-12520    Consumer    Furniture      \n",
              "3    CA-2016-138688 2016-06-12 DV-13045    Corporate   Office Supplies\n",
              "4    US-2015-108966 2015-10-11 SO-20335    Consumer    Furniture      \n",
              "5    US-2015-108966 2015-10-11 SO-20335    Consumer    Office Supplies\n",
              "6    CA-2014-115812 2014-06-09 BH-11710    Consumer    Furniture      \n",
              "7    CA-2014-115812 2014-06-09 BH-11710    Consumer    Office Supplies\n",
              "8    CA-2014-115812 2014-06-09 BH-11710    Consumer    Technology     \n",
              "9    CA-2014-115812 2014-06-09 BH-11710    Consumer    Office Supplies\n",
              "10   CA-2014-115812 2014-06-09 BH-11710    Consumer    Office Supplies\n",
              "11   CA-2014-115812 2014-06-09 BH-11710    Consumer    Furniture      \n",
              "12   CA-2014-115812 2014-06-09 BH-11710    Consumer    Technology     \n",
              "13   CA-2017-114412 2017-04-15 AA-10480    Consumer    Office Supplies\n",
              "14   CA-2016-161389 2016-12-05 IM-15070    Consumer    Office Supplies\n",
              "15   US-2015-118983 2015-11-22 HP-14815    Home Office Office Supplies\n",
              "16   US-2015-118983 2015-11-22 HP-14815    Home Office Office Supplies\n",
              "17   CA-2014-105893 2014-11-11 PK-19075    Consumer    Office Supplies\n",
              "18   CA-2014-167164 2014-05-13 AG-10270    Consumer    Office Supplies\n",
              "19   CA-2014-143336 2014-08-27 ZD-21925    Consumer    Office Supplies\n",
              "20   CA-2014-143336 2014-08-27 ZD-21925    Consumer    Technology     \n",
              "21   CA-2014-143336 2014-08-27 ZD-21925    Consumer    Office Supplies\n",
              "22   CA-2016-137330 2016-12-09 KB-16585    Corporate   Office Supplies\n",
              "23   CA-2016-137330 2016-12-09 KB-16585    Corporate   Office Supplies\n",
              "24   US-2017-156909 2017-07-16 SF-20065    Consumer    Furniture      \n",
              "25   CA-2015-106320 2015-09-25 EB-13870    Consumer    Furniture      \n",
              "26   CA-2016-121755 2016-01-16 EH-13945    Consumer    Office Supplies\n",
              "27   CA-2016-121755 2016-01-16 EH-13945    Consumer    Technology     \n",
              "28   US-2015-150630 2015-09-17 TB-21520    Consumer    Furniture      \n",
              "29   US-2015-150630 2015-09-17 TB-21520    Consumer    Office Supplies\n",
              "30   US-2015-150630 2015-09-17 TB-21520    Consumer    Furniture      \n",
              "⋮    ⋮              ⋮          ⋮           ⋮           ⋮              \n",
              "9959 CA-2016-146374 2016-12-05 HE-14800    Corporate   Furniture      \n",
              "9960 CA-2016-146374 2016-12-05 HE-14800    Corporate   Office Supplies\n",
              "9961 CA-2016-146374 2016-12-05 HE-14800    Corporate   Office Supplies\n",
              "9962 CA-2017-153871 2017-12-11 RB-19435    Consumer    Office Supplies\n",
              "9963 CA-2017-153871 2017-12-11 RB-19435    Consumer    Office Supplies\n",
              "9964 CA-2017-153871 2017-12-11 RB-19435    Consumer    Office Supplies\n",
              "9965 CA-2015-103772 2015-06-28 MP-17470    Home Office Office Supplies\n",
              "9966 CA-2015-103772 2015-06-28 MP-17470    Home Office Office Supplies\n",
              "9967 CA-2016-130225 2016-09-11 RC-19960    Consumer    Office Supplies\n",
              "9968 US-2016-103674 2016-12-06 AP-10720    Home Office Technology     \n",
              "9969 US-2016-103674 2016-12-06 AP-10720    Home Office Office Supplies\n",
              "9970 US-2016-103674 2016-12-06 AP-10720    Home Office Office Supplies\n",
              "9971 US-2016-103674 2016-12-06 AP-10720    Home Office Technology     \n",
              "9972 US-2016-103674 2016-12-06 AP-10720    Home Office Office Supplies\n",
              "9973 US-2016-103674 2016-12-06 AP-10720    Home Office Office Supplies\n",
              "9974 US-2016-103674 2016-12-06 AP-10720    Home Office Office Supplies\n",
              "9975 US-2015-151435 2015-09-06 SW-20455    Consumer    Furniture      \n",
              "9976 CA-2017-163566 2017-08-03 TB-21055    Consumer    Office Supplies\n",
              "9977 US-2016-157728 2016-09-22 RC-19960    Consumer    Office Supplies\n",
              "9978 US-2016-157728 2016-09-22 RC-19960    Consumer    Technology     \n",
              "9979 CA-2015-100251 2015-05-17 DV-13465    Consumer    Office Supplies\n",
              "9980 CA-2015-100251 2015-05-17 DV-13465    Consumer    Office Supplies\n",
              "9981 CA-2016-125794 2016-09-29 ML-17410    Consumer    Technology     \n",
              "9982 CA-2017-163629 2017-11-17 RA-19885    Corporate   Technology     \n",
              "9983 CA-2017-163629 2017-11-17 RA-19885    Corporate   Technology     \n",
              "9984 CA-2014-110422 2014-01-21 TB-21400    Consumer    Furniture      \n",
              "9985 CA-2017-121258 2017-02-26 DB-13060    Consumer    Furniture      \n",
              "9986 CA-2017-121258 2017-02-26 DB-13060    Consumer    Technology     \n",
              "9987 CA-2017-121258 2017-02-26 DB-13060    Consumer    Office Supplies\n",
              "9988 CA-2017-119914 2017-05-04 CC-12220    Consumer    Office Supplies\n",
              "     sub_category sales     quantity profit    \n",
              "1    Bookcases     261.9600 2           41.9136\n",
              "2    Chairs        731.9400 3          219.5820\n",
              "3    Labels         14.6200 2            6.8714\n",
              "4    Tables        957.5775 5         -383.0310\n",
              "5    Storage        22.3680 2            2.5164\n",
              "6    Furnishings    48.8600 7           14.1694\n",
              "7    Art             7.2800 4            1.9656\n",
              "8    Phones        907.1520 6           90.7152\n",
              "9    Binders        18.5040 3            5.7825\n",
              "10   Appliances    114.9000 5           34.4700\n",
              "11   Tables       1706.1840 9           85.3092\n",
              "12   Phones        911.4240 4           68.3568\n",
              "13   Paper          15.5520 3            5.4432\n",
              "14   Binders       407.9760 3          132.5922\n",
              "15   Appliances     68.8100 5         -123.8580\n",
              "16   Binders         2.5440 3           -3.8160\n",
              "17   Storage       665.8800 6           13.3176\n",
              "18   Storage        55.5000 2            9.9900\n",
              "19   Art             8.5600 2            2.4824\n",
              "20   Phones        213.4800 3           16.0110\n",
              "21   Binders        22.7200 4            7.3840\n",
              "22   Art            19.4600 7            5.0596\n",
              "23   Appliances     60.3400 7           15.6884\n",
              "24   Chairs         71.3720 2           -1.0196\n",
              "25   Tables       1044.6300 3          240.2649\n",
              "26   Binders        11.6480 2            4.2224\n",
              "27   Accessories    90.5700 3           11.7741\n",
              "28   Bookcases    3083.4300 7        -1665.0522\n",
              "29   Binders         9.6180 2           -7.0532\n",
              "30   Furnishings   124.2000 3           15.5250\n",
              "⋮    ⋮            ⋮         ⋮        ⋮         \n",
              "9959 Furnishings   13.400    1         6.4320  \n",
              "9960 Paper          4.980    1         2.3406  \n",
              "9961 Envelopes    109.690    7        51.5543  \n",
              "9962 Binders       40.200    5        18.0900  \n",
              "9963 Binders      735.980    2       331.1910  \n",
              "9964 Appliances    22.750    7         6.5975  \n",
              "9965 Binders      119.560    2        54.9976  \n",
              "9966 Art          140.750    5        42.2250  \n",
              "9967 Envelopes     99.568    2        33.6042  \n",
              "9968 Phones       271.960    5        27.1960  \n",
              "9969 Art           18.690    7         5.2332  \n",
              "9970 Paper         13.360    2         6.4128  \n",
              "9971 Phones       249.584    2        31.1980  \n",
              "9972 Fasteners     13.860    7         0.0000  \n",
              "9973 Binders       13.376    4         4.6816  \n",
              "9974 Binders      437.472   14       153.1152  \n",
              "9975 Tables        85.980    1        22.3548  \n",
              "9976 Labels        16.520    5         5.3690  \n",
              "9977 Paper         35.560    7        16.7132  \n",
              "9978 Phones        97.980    2        27.4344  \n",
              "9979 Labels        31.500   10        15.1200  \n",
              "9980 Supplies      55.600    4        16.1240  \n",
              "9981 Accessories   36.240    1        15.2208  \n",
              "9982 Accessories   79.990    1        28.7964  \n",
              "9983 Phones       206.100    5        55.6470  \n",
              "9984 Furnishings   25.248    3         4.1028  \n",
              "9985 Furnishings   91.960    2        15.6332  \n",
              "9986 Phones       258.576    2        19.3932  \n",
              "9987 Paper         29.600    4        13.3200  \n",
              "9988 Appliances   243.160    2        72.9480  "
            ]
          },
          "metadata": {}
        }
      ]
    },
    {
      "cell_type": "code",
      "source": [
        "#for 2015 sales only, use filter\n",
        "library(lubridate)\n",
        "\n",
        "sales_data_2015 <- sales_data %>%\n",
        "  mutate(order_date = as.Date(order_date)) %>%\n",
        "  filter(year(order_date) == 2015)"
      ],
      "metadata": {
        "colab": {
          "base_uri": "https://localhost:8080/"
        },
        "id": "IBOvneXeeInU",
        "outputId": "6b4908ac-9a07-45a5-df51-cfbc8b0e9815"
      },
      "execution_count": 14,
      "outputs": [
        {
          "output_type": "stream",
          "name": "stderr",
          "text": [
            "\n",
            "Attaching package: ‘lubridate’\n",
            "\n",
            "\n",
            "The following objects are masked from ‘package:base’:\n",
            "\n",
            "    date, intersect, setdiff, union\n",
            "\n",
            "\n"
          ]
        }
      ]
    },
    {
      "cell_type": "code",
      "source": [
        "library(ggplot2)\n",
        "\n",
        "# VISUAL of sales data for 2015 is stored in the sales_data_2015 data frame\n",
        "\n",
        "sales_plot <- ggplot(sales_data_2015, aes(x = month(order_date), y = sales)) +\n",
        "  geom_bar(stat = \"summary\", fun = sum, fill = \"steelblue\") +\n",
        "  labs(x = \"Month\", y = \"Total Sales\", title = \"Sales in 2015\")\n",
        "\n",
        "sales_plot\n"
      ],
      "metadata": {
        "colab": {
          "base_uri": "https://localhost:8080/",
          "height": 437
        },
        "id": "NsEuDPuyeqLN",
        "outputId": "86fb43e3-07ed-4984-90bb-b2dc62a670aa"
      },
      "execution_count": 15,
      "outputs": [
        {
          "output_type": "display_data",
          "data": {
            "text/plain": [
              "plot without title"
            ],
            "image/png": "[encoded data removed]"
          },
          "metadata": {
            "image/png": {
              "width": 420,
              "height": 420
            }
          }
        }
      ]
    }
  ]
}