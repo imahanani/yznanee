{
  "nbformat": 4,
  "nbformat_minor": 0,
  "metadata": {
    "colab": {
      "provenance": [],
      "authorship_tag": "ABX9TyO3Ur0Y7FOByU1srEXpJ7Cl",
      "include_colab_link": true
    },
    "kernelspec": {
      "name": "python3",
      "display_name": "Python 3"
    },
    "language_info": {
      "name": "python"
    }
  },
  "cells": [
    {
      "cell_type": "markdown",
      "metadata": {
        "id": "view-in-github",
        "colab_type": "text"
      },
      "source": [
        "<a href=\"https://colab.research.google.com/github/imahanani/yznanee/blob/main/Tugas_Olah_Data_Penjualan_Isgi_Mahanani.ipynb\" target=\"_parent\"><img src=\"https://colab.research.google.com/assets/colab-badge.svg\" alt=\"Open In Colab\"/></a>"
      ]
    },
    {
      "cell_type": "markdown",
      "source": [
        "# Tugas Olah Data Penjualan - Isgi Mahanani\n",
        "### Platform: Skill Academy\n",
        "### Kelas: Bahasa Pemrograman Statistika bagi Data Scientist (Daring)\n",
        "### Mentor: Rendi Nur Cahyo (Day 1-4) dan Muh. Risman (Day 5)\n"
      ],
      "metadata": {
        "id": "Ys35FmgFjYZd"
      }
    },
    {
      "cell_type": "markdown",
      "source": [
        "Soal\n",
        "\n",
        "1.\tTugas pertama, lakukan cleaning dataset terlebih dahulu untuk mendeteksi dan memperbaiki (atau menghapus) suatu record yang 'corrupt' atau tidak akurat!\n",
        "\n",
        "2.\tTugas kedua, dari dataset penjualan yang telah disajikan, gunakan fungsi dasar pemrograman Python untuk mencari data di bawah ini!\n",
        "\n",
        "  a.\tData branch yang memiliki rating paling tinggi\n",
        "\n",
        "  b.\tData product line yang memiliki gross income paling besar\n",
        "\n",
        "3.\tTugas ketiga, buatlah pie chart yang membandingkan banyaknya pembeli laki-laki dan perempuan!\n",
        "\n",
        "4.\tTugas keempat, hitunglah revenue penjualan secara keseluruhan. Lalu buatlah bar chart yang berisi total revenue tersebut! Rumus menghitung revenue = unit price x quantity"
      ],
      "metadata": {
        "id": "ilMFy4rPmod1"
      }
    },
    {
      "cell_type": "markdown",
      "source": [
        "# Mengolah dan Membuat Visualisasi Dasar (diagram) di Python."
      ],
      "metadata": {
        "id": "XBTZQiKgM39I"
      }
    },
    {
      "cell_type": "code",
      "execution_count": null,
      "metadata": {
        "id": "N1mchRQBKBF8"
      },
      "outputs": [],
      "source": [
        "import pandas as pd #manipulasi dan analisis\n",
        "import matplotlib.pyplot as plt #visualisasi\n",
        "import seaborn as sns #custom visual"
      ]
    },
    {
      "cell_type": "markdown",
      "source": [
        "### Tugas Pertama: Cleaning Dataset"
      ],
      "metadata": {
        "id": "pfkN7LuyOH00"
      }
    },
    {
      "cell_type": "code",
      "source": [
        "df = pd.read_csv('supermarket_sales.csv') #deklarasi sumber data\n",
        "df.head() #return 5 row teratas"
      ],
      "metadata": {
        "colab": {
          "base_uri": "https://localhost:8080/",
          "height": 206
        },
        "id": "r9NfvzMCOP2R",
        "outputId": "c50aa7d2-ad14-4239-ac16-d790511ec458"
      },
      "execution_count": null,
      "outputs": [
        {
          "output_type": "execute_result",
          "data": {
            "text/plain": [
              "    Invoice ID Branch       City Customer type  Gender  \\\n",
              "0  750-67-8428      A     Yangon        Member  Female   \n",
              "1  226-31-3081      C  Naypyitaw        Normal  Female   \n",
              "2  631-41-3108      A     Yangon        Normal    Male   \n",
              "3  123-19-1176      A     Yangon        Member    Male   \n",
              "4  373-73-7910      A     Yangon        Normal    Male   \n",
              "\n",
              "             Product line  Unit price  Quantity   Tax 5%     Total       Date  \\\n",
              "0       Health and beauty       74.69         7  26.1415  548.9715   1/5/2019   \n",
              "1  Electronic accessories       15.28         5   3.8200   80.2200   3/8/2019   \n",
              "2      Home and lifestyle       46.33         7  16.2155  340.5255   3/3/2019   \n",
              "3       Health and beauty       58.22         8  23.2880  489.0480  1/27/2019   \n",
              "4       Sports and travel       86.31         7  30.2085  634.3785   2/8/2019   \n",
              "\n",
              "    Time      Payment    cogs  gross margin percentage  gross income  Rating  \n",
              "0  13:08      Ewallet  522.83                 4.761905       26.1415     9.1  \n",
              "1  10:29         Cash   76.40                 4.761905        3.8200     9.6  \n",
              "2  13:23  Credit card  324.31                 4.761905       16.2155     7.4  \n",
              "3  20:33      Ewallet  465.76                 4.761905       23.2880     8.4  \n",
              "4  10:37      Ewallet  604.17                 4.761905       30.2085     5.3  "
            ],
            "text/html": [
              "\n",
              "  <div id=\"df-ad6dbbb9-6225-47f1-b153-9db838d55602\">\n",
              "    <div class=\"colab-df-container\">\n",
              "      <div>\n",
              "<style scoped>\n",
              "    .dataframe tbody tr th:only-of-type {\n",
              "        vertical-align: middle;\n",
              "    }\n",
              "\n",
              "    .dataframe tbody tr th {\n",
              "        vertical-align: top;\n",
              "    }\n",
              "\n",
              "    .dataframe thead th {\n",
              "        text-align: right;\n",
              "    }\n",
              "</style>\n",
              "<table border=\"1\" class=\"dataframe\">\n",
              "  <thead>\n",
              "    <tr style=\"text-align: right;\">\n",
              "      <th></th>\n",
              "      <th>Invoice ID</th>\n",
              "      <th>Branch</th>\n",
              "      <th>City</th>\n",
              "      <th>Customer type</th>\n",
              "      <th>Gender</th>\n",
              "      <th>Product line</th>\n",
              "      <th>Unit price</th>\n",
              "      <th>Quantity</th>\n",
              "      <th>Tax 5%</th>\n",
              "      <th>Total</th>\n",
              "      <th>Date</th>\n",
              "      <th>Time</th>\n",
              "      <th>Payment</th>\n",
              "      <th>cogs</th>\n",
              "      <th>gross margin percentage</th>\n",
              "      <th>gross income</th>\n",
              "      <th>Rating</th>\n",
              "    </tr>\n",
              "  </thead>\n",
              "  <tbody>\n",
              "    <tr>\n",
              "      <th>0</th>\n",
              "      <td>750-67-8428</td>\n",
              "      <td>A</td>\n",
              "      <td>Yangon</td>\n",
              "      <td>Member</td>\n",
              "      <td>Female</td>\n",
              "      <td>Health and beauty</td>\n",
              "      <td>74.69</td>\n",
              "      <td>7</td>\n",
              "      <td>26.1415</td>\n",
              "      <td>548.9715</td>\n",
              "      <td>1/5/2019</td>\n",
              "      <td>13:08</td>\n",
              "      <td>Ewallet</td>\n",
              "      <td>522.83</td>\n",
              "      <td>4.761905</td>\n",
              "      <td>26.1415</td>\n",
              "      <td>9.1</td>\n",
              "    </tr>\n",
              "    <tr>\n",
              "      <th>1</th>\n",
              "      <td>226-31-3081</td>\n",
              "      <td>C</td>\n",
              "      <td>Naypyitaw</td>\n",
              "      <td>Normal</td>\n",
              "      <td>Female</td>\n",
              "      <td>Electronic accessories</td>\n",
              "      <td>15.28</td>\n",
              "      <td>5</td>\n",
              "      <td>3.8200</td>\n",
              "      <td>80.2200</td>\n",
              "      <td>3/8/2019</td>\n",
              "      <td>10:29</td>\n",
              "      <td>Cash</td>\n",
              "      <td>76.40</td>\n",
              "      <td>4.761905</td>\n",
              "      <td>3.8200</td>\n",
              "      <td>9.6</td>\n",
              "    </tr>\n",
              "    <tr>\n",
              "      <th>2</th>\n",
              "      <td>631-41-3108</td>\n",
              "      <td>A</td>\n",
              "      <td>Yangon</td>\n",
              "      <td>Normal</td>\n",
              "      <td>Male</td>\n",
              "      <td>Home and lifestyle</td>\n",
              "      <td>46.33</td>\n",
              "      <td>7</td>\n",
              "      <td>16.2155</td>\n",
              "      <td>340.5255</td>\n",
              "      <td>3/3/2019</td>\n",
              "      <td>13:23</td>\n",
              "      <td>Credit card</td>\n",
              "      <td>324.31</td>\n",
              "      <td>4.761905</td>\n",
              "      <td>16.2155</td>\n",
              "      <td>7.4</td>\n",
              "    </tr>\n",
              "    <tr>\n",
              "      <th>3</th>\n",
              "      <td>123-19-1176</td>\n",
              "      <td>A</td>\n",
              "      <td>Yangon</td>\n",
              "      <td>Member</td>\n",
              "      <td>Male</td>\n",
              "      <td>Health and beauty</td>\n",
              "      <td>58.22</td>\n",
              "      <td>8</td>\n",
              "      <td>23.2880</td>\n",
              "      <td>489.0480</td>\n",
              "      <td>1/27/2019</td>\n",
              "      <td>20:33</td>\n",
              "      <td>Ewallet</td>\n",
              "      <td>465.76</td>\n",
              "      <td>4.761905</td>\n",
              "      <td>23.2880</td>\n",
              "      <td>8.4</td>\n",
              "    </tr>\n",
              "    <tr>\n",
              "      <th>4</th>\n",
              "      <td>373-73-7910</td>\n",
              "      <td>A</td>\n",
              "      <td>Yangon</td>\n",
              "      <td>Normal</td>\n",
              "      <td>Male</td>\n",
              "      <td>Sports and travel</td>\n",
              "      <td>86.31</td>\n",
              "      <td>7</td>\n",
              "      <td>30.2085</td>\n",
              "      <td>634.3785</td>\n",
              "      <td>2/8/2019</td>\n",
              "      <td>10:37</td>\n",
              "      <td>Ewallet</td>\n",
              "      <td>604.17</td>\n",
              "      <td>4.761905</td>\n",
              "      <td>30.2085</td>\n",
              "      <td>5.3</td>\n",
              "    </tr>\n",
              "  </tbody>\n",
              "</table>\n",
              "</div>\n",
              "      <button class=\"colab-df-convert\" onclick=\"convertToInteractive('df-ad6dbbb9-6225-47f1-b153-9db838d55602')\"\n",
              "              title=\"Convert this dataframe to an interactive table.\"\n",
              "              style=\"display:none;\">\n",
              "        \n",
              "  <svg xmlns=\"http://www.w3.org/2000/svg\" height=\"24px\"viewBox=\"0 0 24 24\"\n",
              "       width=\"24px\">\n",
              "    <path d=\"M0 0h24v24H0V0z\" fill=\"none\"/>\n",
              "    <path d=\"M18.56 5.44l.94 2.06.94-2.06 2.06-.94-2.06-.94-.94-2.06-.94 2.06-2.06.94zm-11 1L8.5 8.5l.94-2.06 2.06-.94-2.06-.94L8.5 2.5l-.94 2.06-2.06.94zm10 10l.94 2.06.94-2.06 2.06-.94-2.06-.94-.94-2.06-.94 2.06-2.06.94z\"/><path d=\"M17.41 7.96l-1.37-1.37c-.4-.4-.92-.59-1.43-.59-.52 0-1.04.2-1.43.59L10.3 9.45l-7.72 7.72c-.78.78-.78 2.05 0 2.83L4 21.41c.39.39.9.59 1.41.59.51 0 1.02-.2 1.41-.59l7.78-7.78 2.81-2.81c.8-.78.8-2.07 0-2.86zM5.41 20L4 18.59l7.72-7.72 1.47 1.35L5.41 20z\"/>\n",
              "  </svg>\n",
              "      </button>\n",
              "      \n",
              "  <style>\n",
              "    .colab-df-container {\n",
              "      display:flex;\n",
              "      flex-wrap:wrap;\n",
              "      gap: 12px;\n",
              "    }\n",
              "\n",
              "    .colab-df-convert {\n",
              "      background-color: #E8F0FE;\n",
              "      border: none;\n",
              "      border-radius: 50%;\n",
              "      cursor: pointer;\n",
              "      display: none;\n",
              "      fill: #1967D2;\n",
              "      height: 32px;\n",
              "      padding: 0 0 0 0;\n",
              "      width: 32px;\n",
              "    }\n",
              "\n",
              "    .colab-df-convert:hover {\n",
              "      background-color: #E2EBFA;\n",
              "      box-shadow: 0px 1px 2px rgba(60, 64, 67, 0.3), 0px 1px 3px 1px rgba(60, 64, 67, 0.15);\n",
              "      fill: #174EA6;\n",
              "    }\n",
              "\n",
              "    [theme=dark] .colab-df-convert {\n",
              "      background-color: #3B4455;\n",
              "      fill: #D2E3FC;\n",
              "    }\n",
              "\n",
              "    [theme=dark] .colab-df-convert:hover {\n",
              "      background-color: #434B5C;\n",
              "      box-shadow: 0px 1px 3px 1px rgba(0, 0, 0, 0.15);\n",
              "      filter: drop-shadow(0px 1px 2px rgba(0, 0, 0, 0.3));\n",
              "      fill: #FFFFFF;\n",
              "    }\n",
              "  </style>\n",
              "\n",
              "      <script>\n",
              "        const buttonEl =\n",
              "          document.querySelector('#df-ad6dbbb9-6225-47f1-b153-9db838d55602 button.colab-df-convert');\n",
              "        buttonEl.style.display =\n",
              "          google.colab.kernel.accessAllowed ? 'block' : 'none';\n",
              "\n",
              "        async function convertToInteractive(key) {\n",
              "          const element = document.querySelector('#df-ad6dbbb9-6225-47f1-b153-9db838d55602');\n",
              "          const dataTable =\n",
              "            await google.colab.kernel.invokeFunction('convertToInteractive',\n",
              "                                                     [key], {});\n",
              "          if (!dataTable) return;\n",
              "\n",
              "          const docLinkHtml = 'Like what you see? Visit the ' +\n",
              "            '<a target=\"_blank\" href=https://colab.research.google.com/notebooks/data_table.ipynb>data table notebook</a>'\n",
              "            + ' to learn more about interactive tables.';\n",
              "          element.innerHTML = '';\n",
              "          dataTable['output_type'] = 'display_data';\n",
              "          await google.colab.output.renderOutput(dataTable, element);\n",
              "          const docLink = document.createElement('div');\n",
              "          docLink.innerHTML = docLinkHtml;\n",
              "          element.appendChild(docLink);\n",
              "        }\n",
              "      </script>\n",
              "    </div>\n",
              "  </div>\n",
              "  "
            ]
          },
          "metadata": {},
          "execution_count": 35
        }
      ]
    },
    {
      "cell_type": "markdown",
      "source": [
        "Identifikasi dan tangani nilai yang hilang atau tidak valid"
      ],
      "metadata": {
        "id": "OVkg9U9_PsSL"
      }
    },
    {
      "cell_type": "code",
      "source": [
        "df.dropna(inplace=True)  # Hapus baris dengan nilai yang hilang"
      ],
      "metadata": {
        "id": "RYCV0c4NP0LC"
      },
      "execution_count": null,
      "outputs": []
    },
    {
      "cell_type": "code",
      "source": [
        "print(df.dtypes) # Memeriksa tipe data dari setiap kolom"
      ],
      "metadata": {
        "colab": {
          "base_uri": "https://localhost:8080/"
        },
        "id": "GlM95O8rQPPu",
        "outputId": "ea96c187-d471-41fd-93b9-655d5931da83"
      },
      "execution_count": null,
      "outputs": [
        {
          "output_type": "stream",
          "name": "stdout",
          "text": [
            "Invoice ID                  object\n",
            "Branch                      object\n",
            "City                        object\n",
            "Customer type               object\n",
            "Gender                      object\n",
            "Product line                object\n",
            "Unit price                 float64\n",
            "Quantity                     int64\n",
            "Tax 5%                     float64\n",
            "Total                      float64\n",
            "Date                        object\n",
            "Time                        object\n",
            "Payment                     object\n",
            "cogs                       float64\n",
            "gross margin percentage    float64\n",
            "gross income               float64\n",
            "Rating                     float64\n",
            "dtype: object\n"
          ]
        }
      ]
    },
    {
      "cell_type": "code",
      "source": [
        "print(df.isna().sum()) #aman tidak ada NA"
      ],
      "metadata": {
        "colab": {
          "base_uri": "https://localhost:8080/"
        },
        "id": "2ILA2VQ3R7Lr",
        "outputId": "a5237342-5576-4444-edbc-a24521b4fcbc"
      },
      "execution_count": null,
      "outputs": [
        {
          "output_type": "stream",
          "name": "stdout",
          "text": [
            "Invoice ID                 0\n",
            "Branch                     0\n",
            "City                       0\n",
            "Customer type              0\n",
            "Gender                     0\n",
            "Product line               0\n",
            "Unit price                 0\n",
            "Quantity                   0\n",
            "Tax 5%                     0\n",
            "Total                      0\n",
            "Date                       0\n",
            "Time                       0\n",
            "Payment                    0\n",
            "cogs                       0\n",
            "gross margin percentage    0\n",
            "gross income               0\n",
            "Rating                     0\n",
            "dtype: int64\n"
          ]
        }
      ]
    },
    {
      "cell_type": "markdown",
      "source": [
        "### Tugas Kedua: Mencari Data dengan Fungsi Dasar Python"
      ],
      "metadata": {
        "id": "kEiHNdxdSLsk"
      }
    },
    {
      "cell_type": "code",
      "source": [
        "#Kolom: Rating | \n",
        "max_rating = df['Rating'].max() # Cari data branch dengan rating paling tinggi\n",
        "highest_rated_branch = df.loc[df['Rating'] == max_rating]\n",
        "max_rating #return rating tertinggi"
      ],
      "metadata": {
        "colab": {
          "base_uri": "https://localhost:8080/"
        },
        "id": "w8Ff9IgJSNN2",
        "outputId": "bde025f8-fbb3-4f8b-cf47-04e8ff824762"
      },
      "execution_count": null,
      "outputs": [
        {
          "output_type": "execute_result",
          "data": {
            "text/plain": [
              "10.0"
            ]
          },
          "metadata": {},
          "execution_count": 39
        }
      ]
    },
    {
      "cell_type": "code",
      "source": [
        "#Kolom: gross income\n",
        "max_gross_income = df['gross income'].max() # Cari data product line dengan gross income paling besar\n",
        "highest_gross_income_product_line = df.loc[df['gross income'] == max_gross_income]\n",
        "max_gross_income #return omzet tertinggi"
      ],
      "metadata": {
        "colab": {
          "base_uri": "https://localhost:8080/"
        },
        "id": "yWcND9BxSoNN",
        "outputId": "342e426b-bc2d-414f-b55d-ade59289a8bb"
      },
      "execution_count": null,
      "outputs": [
        {
          "output_type": "execute_result",
          "data": {
            "text/plain": [
              "49.65"
            ]
          },
          "metadata": {},
          "execution_count": 40
        }
      ]
    },
    {
      "cell_type": "markdown",
      "source": [
        "Rating tertinggi: 10.0 dan omzet tertinggi: 49.65\n"
      ],
      "metadata": {
        "id": "NvTC39uck_tA"
      }
    },
    {
      "cell_type": "markdown",
      "source": [
        "### Tugas Ketiga: Membuat Pie Chart"
      ],
      "metadata": {
        "id": "axTS40erTLlg"
      }
    },
    {
      "cell_type": "code",
      "source": [
        "#Kolom: Gender\n",
        "gender_counts = df['Gender'].value_counts() # Hitung jumlah pembeli laki-laki dan perempuan\n",
        "gender_counts"
      ],
      "metadata": {
        "colab": {
          "base_uri": "https://localhost:8080/"
        },
        "id": "_Vx_fIzPTMh0",
        "outputId": "12cecfab-84da-4199-fc4a-17e044957794"
      },
      "execution_count": null,
      "outputs": [
        {
          "output_type": "execute_result",
          "data": {
            "text/plain": [
              "Female    501\n",
              "Male      499\n",
              "Name: Gender, dtype: int64"
            ]
          },
          "metadata": {},
          "execution_count": 41
        }
      ]
    },
    {
      "cell_type": "markdown",
      "source": [
        "Pie Chart"
      ],
      "metadata": {
        "id": "VnzzDjEVTfE3"
      }
    },
    {
      "cell_type": "code",
      "source": [
        "#Variable:  gender_counts\n",
        "plt.pie(gender_counts, labels=gender_counts.index, autopct='%1.1f%%') \n",
        "plt.axis('equal')\n",
        "plt.title('Gender Counts') #tittle\n",
        "plt.show()"
      ],
      "metadata": {
        "colab": {
          "base_uri": "https://localhost:8080/",
          "height": 435
        },
        "id": "7c3CdybvTbzk",
        "outputId": "e560a7c5-e3d0-4fe5-bb97-352ec27dd90c"
      },
      "execution_count": null,
      "outputs": [
        {
          "output_type": "display_data",
          "data": {
            "text/plain": [
              "<Figure size 640x480 with 1 Axes>"
            ],
            "image/png": "[encoded data removed]"
          },
          "metadata": {}
        }
      ]
    },
    {
      "cell_type": "markdown",
      "source": [
        "### Tugas Keempat: Menghitung Total Revenue dan Membuat Bar Chart\n",
        "\n",
        "---\n",
        "\n"
      ],
      "metadata": {
        "id": "7Zv6B_dcTve4"
      }
    },
    {
      "cell_type": "code",
      "source": [
        "df['revenue'] = df['Unit price'] * df['Quantity'] # Hitung revenue penjualan untuk setiap baris\n",
        "total_revenue = df['revenue'].sum() #total revenue penjualan\n",
        "print(\"Total Revenue: \", total_revenue) #nilai total revenue\n",
        "print(df['revenue']) #nilai revenue untuk setiap baris"
      ],
      "metadata": {
        "colab": {
          "base_uri": "https://localhost:8080/"
        },
        "id": "DvYoXFREU7Nt",
        "outputId": "839a87c1-b290-48fd-8744-c19b3f4e8bc6"
      },
      "execution_count": null,
      "outputs": [
        {
          "output_type": "stream",
          "name": "stdout",
          "text": [
            "Total Revenue:  307587.38\n",
            "0      522.83\n",
            "1       76.40\n",
            "2      324.31\n",
            "3      465.76\n",
            "4      604.17\n",
            "        ...  \n",
            "995     40.35\n",
            "996    973.80\n",
            "997     31.84\n",
            "998     65.82\n",
            "999    618.38\n",
            "Name: revenue, Length: 1000, dtype: float64\n"
          ]
        }
      ]
    },
    {
      "cell_type": "markdown",
      "source": [
        "Total Revenue:  307587.38"
      ],
      "metadata": {
        "id": "hzSkpeAMknty"
      }
    },
    {
      "cell_type": "markdown",
      "source": [
        "Bar Chart"
      ],
      "metadata": {
        "id": "aIJ-TG9wljjL"
      }
    },
    {
      "cell_type": "code",
      "source": [
        "# Calculate revenue for each city\n",
        "revenue_by_city = df.groupby('City')['Unit price', 'Quantity'].sum()\n",
        "revenue_by_city['Revenue'] = revenue_by_city['Unit price'] * revenue_by_city['Quantity']\n",
        "\n",
        "# Plot the bar chart\n",
        "revenue_by_city.plot(kind='bar', y='Revenue', legend=False)\n",
        "plt.xlabel('City') # Set the x-axis label and y-axis label\n",
        "plt.ylabel('Revenue') \n",
        "plt.title('Revenue by City') #tittle\n",
        "plt.show() # Show the graph"
      ],
      "metadata": {
        "colab": {
          "base_uri": "https://localhost:8080/",
          "height": 566
        },
        "id": "usAX7DxkWBN9",
        "outputId": "71a02806-89f0-4045-a7b4-4c92900afaac"
      },
      "execution_count": null,
      "outputs": [
        {
          "output_type": "stream",
          "name": "stderr",
          "text": [
            "<ipython-input-44-3131642290a3>:2: FutureWarning: Indexing with multiple keys (implicitly converted to a tuple of keys) will be deprecated, use a list instead.\n",
            "  revenue_by_city = df.groupby('City')['Unit price', 'Quantity'].sum()\n"
          ]
        },
        {
          "output_type": "display_data",
          "data": {
            "text/plain": [
              "<Figure size 640x480 with 1 Axes>"
            ],
            "image/png": "[encoded data removed]"
          },
          "metadata": {}
        }
      ]
    },
    {
      "cell_type": "code",
      "source": [
        "# Calculate revenue for each Gender\n",
        "revenue_by_gender = df.groupby('Gender')['Unit price', 'Quantity'].sum()\n",
        "revenue_by_gender['Revenue'] = revenue_by_gender['Unit price'] * revenue_by_gender['Quantity']\n",
        "\n",
        "# Plot the bar chart\n",
        "revenue_by_gender.plot(kind='bar', y='Revenue', legend=False)\n",
        "plt.xlabel('Gender') # Set the x-axis label and y-axis label\n",
        "plt.ylabel('Revenue') \n",
        "plt.title('Revenue by Gender') #tittle\n",
        "plt.show() # Show the graph"
      ],
      "metadata": {
        "colab": {
          "base_uri": "https://localhost:8080/",
          "height": 543
        },
        "id": "X455Id1ghy7P",
        "outputId": "1e0ee61c-b41e-421a-cce0-91159d9e2431"
      },
      "execution_count": null,
      "outputs": [
        {
          "output_type": "stream",
          "name": "stderr",
          "text": [
            "<ipython-input-45-cd7db334ce00>:2: FutureWarning: Indexing with multiple keys (implicitly converted to a tuple of keys) will be deprecated, use a list instead.\n",
            "  revenue_by_gender = df.groupby('Gender')['Unit price', 'Quantity'].sum()\n"
          ]
        },
        {
          "output_type": "display_data",
          "data": {
            "text/plain": [
              "<Figure size 640x480 with 1 Axes>"
            ],
            "image/png": "[encoded data removed]"
          },
          "metadata": {}
        }
      ]
    }
  ]
}